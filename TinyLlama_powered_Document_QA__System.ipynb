{
  "nbformat": 4,
  "nbformat_minor": 0,
  "metadata": {
    "colab": {
      "provenance": [],
      "authorship_tag": "ABX9TyOeSrFvYbsSdhfza4ufSDPE",
      "include_colab_link": true
    },
    "kernelspec": {
      "name": "python3",
      "display_name": "Python 3"
    },
    "language_info": {
      "name": "python"
    }
  },
  "cells": [
    {
      "cell_type": "markdown",
      "metadata": {
        "id": "view-in-github",
        "colab_type": "text"
      },
      "source": [
        "<a href=\"https://colab.research.google.com/github/Jeeva55t/Large_Language_Model-Projects/blob/main/TinyLlama_powered_Document_QA__System.ipynb\" target=\"_parent\"><img src=\"https://colab.research.google.com/assets/colab-badge.svg\" alt=\"Open In Colab\"/></a>"
      ]
    },
    {
      "cell_type": "code",
      "execution_count": null,
      "metadata": {
        "id": "QeWCqET5gj0O"
      },
      "outputs": [],
      "source": [
        "!pip install -q langchain llama-cpp-python faiss-cpu sentence-transformers"
      ]
    },
    {
      "cell_type": "code",
      "source": [
        "!wget -q https://huggingface.co/TheBloke/TinyLlama-1.1B-Chat-v1.0-GGUF/resolve/main/tinyllama-1.1b-chat-v1.0.Q4_K_M.gguf -O tinyllama.gguf"
      ],
      "metadata": {
        "id": "hs-qEFZygxir"
      },
      "execution_count": null,
      "outputs": []
    },
    {
      "cell_type": "code",
      "source": [
        "!pip -q install langchain_community"
      ],
      "metadata": {
        "id": "nUHQJHCBh3Im"
      },
      "execution_count": null,
      "outputs": []
    },
    {
      "cell_type": "code",
      "source": [
        "from langchain.document_loaders import TextLoader\n",
        "from langchain.text_splitter import CharacterTextSplitter\n",
        "from langchain.embeddings import HuggingFaceEmbeddings\n",
        "from langchain.vectorstores import FAISS\n",
        "from langchain.chains import RetrievalQA\n",
        "from langchain.llms import LlamaCpp"
      ],
      "metadata": {
        "id": "8vyR-XWOiDGk"
      },
      "execution_count": null,
      "outputs": []
    },
    {
      "cell_type": "code",
      "source": [
        "#step 1 :load and split documents\n",
        "loader = TextLoader('india.txt')\n",
        "documents = loader.load()\n",
        "\n",
        "splitter = CharacterTextSplitter(chunk_size=500, chunk_overlap=50)\n",
        "docs = splitter.split_documents(documents)"
      ],
      "metadata": {
        "id": "aB_hfBh4i-b8"
      },
      "execution_count": null,
      "outputs": []
    },
    {
      "cell_type": "code",
      "source": [
        "#step 2 :Embed and index\n",
        "embeddings = HuggingFaceEmbeddings(model_name=\"all-MiniLM-L6-v2\")\n",
        "vector_DB = FAISS.from_documents(docs, embeddings)"
      ],
      "metadata": {
        "id": "hbfJ7EHSjwgc"
      },
      "execution_count": null,
      "outputs": []
    },
    {
      "cell_type": "code",
      "source": [
        "from re import VERBOSE\n",
        "#step 3: Load the tinyLLama\n",
        "llm = LlamaCpp(\n",
        "    model_path=\"tinyllama.gguf\",\n",
        "    temperature = 0.5,\n",
        "    max_tokens =  1024,\n",
        "    top_p = 0.95,\n",
        "    n_ctx = 4096, # Increased context window size\n",
        "    VERBOSE=True\n",
        ")"
      ],
      "metadata": {
        "id": "FHUWQj8Ml7Si",
        "collapsed": true
      },
      "execution_count": null,
      "outputs": []
    },
    {
      "cell_type": "code",
      "source": [
        "#step 4: Create QA chain\n",
        "qa_chain = RetrievalQA.from_chain_type(\n",
        "    llm = llm,\n",
        "    retriever = vector_DB.as_retriever()\n",
        ")"
      ],
      "metadata": {
        "id": "cKOZOV4km_Fg"
      },
      "execution_count": null,
      "outputs": []
    },
    {
      "cell_type": "code",
      "source": [
        "question = \"what is the capital of India?\"\n",
        "answer = qa_chain.run(question)\n",
        "print(answer)"
      ],
      "metadata": {
        "colab": {
          "base_uri": "https://localhost:8080/"
        },
        "id": "Y5bF0l7fn1e6",
        "outputId": "883ae244-1c19-479d-813a-11bba75cb993"
      },
      "execution_count": 28,
      "outputs": [
        {
          "output_type": "stream",
          "name": "stderr",
          "text": [
            "Llama.generate: 594 prefix-match hit, remaining 1 prompt tokens to eval\n",
            "llama_perf_context_print:        load time =   55666.01 ms\n",
            "llama_perf_context_print: prompt eval time =       0.00 ms /     1 tokens (    0.00 ms per token,      inf tokens per second)\n",
            "llama_perf_context_print:        eval time =    1168.26 ms /     9 runs   (  129.81 ms per token,     7.70 tokens per second)\n",
            "llama_perf_context_print:       total time =    1178.19 ms /    10 tokens\n"
          ]
        },
        {
          "output_type": "stream",
          "name": "stdout",
          "text": [
            " Delhi is the capital of India.\n"
          ]
        }
      ]
    },
    {
      "cell_type": "code",
      "source": [],
      "metadata": {
        "id": "YD17DUDNA3bP"
      },
      "execution_count": null,
      "outputs": []
    }
  ]
}